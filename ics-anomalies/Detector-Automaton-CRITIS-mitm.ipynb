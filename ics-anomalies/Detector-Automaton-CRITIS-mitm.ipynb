{
 "cells": [
  {
   "cell_type": "code",
   "execution_count": 4,
   "metadata": {
    "scrolled": true
   },
   "outputs": [
    {
     "name": "stdout",
     "output_type": "stream",
     "text": [
      "[[7.86786787e-02 1.59268458e-03 7.76980026e-02 7.94950113e-02\n",
      "  3.18536917e-04]\n",
      " [9.42942943e-02 3.02293411e-01 9.33261405e-02 9.51982190e-02\n",
      "  6.04586823e-02]\n",
      " [1.06756757e-01 7.94810024e-04 1.05802108e-01 1.07407880e-01\n",
      "  2.21923981e-04]\n",
      " [1.09909910e-01 7.43077224e-02 1.08906792e-01 1.10760036e-01\n",
      "  1.48615445e-02]\n",
      " [1.25375375e-01 7.97865651e-04 1.24350329e-01 1.26143829e-01\n",
      "  1.59573130e-04]\n",
      " [1.34234234e-01 7.91831506e-04 1.33256749e-01 1.35066827e-01\n",
      "  1.58366334e-04]\n",
      " [1.40690691e-01 1.08651588e-03 1.39257680e-01 1.41758661e-01\n",
      "  2.17303177e-04]]\n",
      "variances =  [0.0009022540179835526, 0.0009365900214421905, 0.0008171032979643106, 0.0009297744292981334, 0.0009058806505805672, 0.0009079336401112226, 0.0012637408443374365]\n"
     ]
    }
   ],
   "source": [
    "# coding=utf-8\n",
    "from scapy.all import *\n",
    "import binascii\n",
    "import struct\n",
    "import time\n",
    "\n",
    "from sklearn.neighbors import KernelDensity\n",
    "from matplotlib.pyplot import plot\n",
    "from scipy.signal import argrelextrema\n",
    "from scipy.signal import find_peaks\n",
    "\n",
    "import decimal\n",
    "from decimal import Decimal\n",
    "import crcmod\n",
    "import libnum\n",
    "\n",
    "from scapy.layers.inet import IP, UDP\n",
    "from scapy.layers.l2 import Ether\n",
    "\n",
    "import sys\n",
    "#sys.path.append('/home/xalanaseon/scapy-cip-enip')\n",
    "# insert at 1, 0 is the script path (or '' in REPL)\n",
    "#sys.path.insert(1, '/home/xalanaseon/scapy-cip-enip')\n",
    "#from cip import CIP, CIP_Path\n",
    "#import cip\n",
    "import numpy as np\n",
    "\n",
    "packets = []\n",
    "\n",
    "s_time = 0\n",
    "c_time = 0\n",
    "duration = 10 #time record in seconds\n",
    "bounds = np.load(\"np_bounds_CRITIS_dst.npy\")\n",
    "print(bounds)\n",
    "Variances = []\n",
    "peaks = bounds[:,0]\n",
    "height = bounds[:,1]\n",
    "for i in range(len(peaks)):\n",
    "    # SUM((Xi-E[X])^2)/N\n",
    "    S2 = (((bounds[i,0]-bounds[i,2])**2) + ((bounds[i,0]-bounds[i,3])**2))/2\n",
    "    Variances.append(np.sqrt(S2))\n",
    "        \n",
    "print(\"variances = \",Variances)\n",
    "\n",
    "N=100\n",
    "queue = []\n",
    "Detection_count = 0\n",
    "Probability = 0\n",
    "\n",
    "timespan = []\n",
    "detected = []\n",
    "\n",
    "\n",
    "### Convert ip address string to integer\n",
    "def ip2long(ip):\n",
    "    \"\"\"\n",
    "    Convert an IP string to long\n",
    "    \"\"\"\n",
    "    packedIP = socket.inet_aton(ip)\n",
    "    return struct.unpack(\"!L\", packedIP)[0]\n",
    "\n",
    "def packet_analysis(pkt):\n",
    "    if IP in pkt and TCP in pkt:\n",
    "        global s_time\n",
    "        global c_time\n",
    "        global Probability\n",
    "        global queue\n",
    "        if s_time == 0:\n",
    "            s_time = pkt.time\n",
    "            c_time = pkt.time\n",
    "            print(type(float(pkt.time)))\n",
    "        #if len(pkt[TCP].payload) > 6:\n",
    "        #print(pkt[CIP].SERVICE_CODES[pkt[CIP].service])\n",
    "        #pkt.show()\n",
    "        if(pkt[TCP].dport == 502):\n",
    "            queue = [x for x in queue if x+60 > pkt.time]\n",
    "            c_time = pkt.time\n",
    "            X_queue = [x for x in queue]\n",
    "            X_queue.append(pkt.time)\n",
    "            #print(len(X_queue))\n",
    "            if len(X_queue) < 100:\n",
    "                queue.append(pkt.time)  \n",
    "            else:\n",
    "                X_Q = np.asarray(X_queue)\n",
    "                #print(X_Q)\n",
    "                X = np.diff(X_Q).reshape(-1,1)\n",
    "                #print(X)\n",
    "                X_plot = np.linspace(-0.0, 0.1, 1000)[:, np.newaxis]\n",
    "                #print(X_plot)\n",
    "                kde = KernelDensity(kernel='gaussian', bandwidth=0.0005).fit(X)\n",
    "                log_dens = kde.score_samples(X_plot)\n",
    "                #print(kde.get_params())\n",
    "                dens = np.exp(log_dens)/1000\n",
    "                c_peaks, _ = find_peaks(dens, height=0.001)\n",
    "                nppeaks = np.hstack((X_plot[c_peaks],dens[c_peaks].reshape(-1,1)))\n",
    "                \n",
    "                queue.append(pkt.time) \n",
    "                Probability = 0.0\n",
    "                p_list = []\n",
    "                for pks in nppeaks:\n",
    "                    if pks[1] > 0.01:\n",
    "                        peak_index = np.abs(peaks - pks[0]).argmin()\n",
    "                        Amplitude = np.abs(height[peak_index] - pks[1])/height[peak_index]\n",
    "                        Distances = np.abs(peaks[peak_index] - pks[0])/Variances[peak_index]\n",
    "                        if Distances >= 1:\n",
    "                            p_list.append(Distances)\n",
    "                            #Chebychev cannot be used at k below 1.0\n",
    "                if len(p_list) > 0:\n",
    "                    #print(nppeaks)\n",
    "                    k = np.max(p_list)\n",
    "                    #print(\"k value \",k)\n",
    "                    #Confidence = Pr[All] - Pr[Occur] , Pr Occur = 1/k^2\n",
    "                    Pr_occur = 1/(k**2)\n",
    "                    #print(\"Pr data present \",Pr_occur)\n",
    "                    Probability = 1 - Pr_occur\n",
    "                    detected.append([pkt.time,1,Probability]) \n",
    "                    #print(\"Sequence number \",pkt[TCP].seq)\n",
    "                    #print(pkt.time)\n",
    "                    #print(datetime.utcfromtimestamp(pkt.time).strftime('%Y-%m-%d %H:%M:%S'))\n",
    "                    #print(\"Detection Confidences \",Probability)\n",
    "                else:\n",
    "                    detected.append([pkt.time,0,0.0]) \n",
    "\n",
    "\n",
    "            #print(time.localtime(pkt.time))\n",
    "                    "
   ]
  },
  {
   "cell_type": "code",
   "execution_count": null,
   "metadata": {},
   "outputs": [],
   "source": []
  },
  {
   "cell_type": "code",
   "execution_count": 5,
   "metadata": {},
   "outputs": [
    {
     "name": "stdout",
     "output_type": "stream",
     "text": [
      "<class 'float'>\n",
      "Completed\n",
      "113.50896406173706\n"
     ]
    }
   ],
   "source": [
    "try:\n",
    "    start_t = time.time()\n",
    "    #sniff(offline='DataSet/captures1_v2/captures1_v2/modbusQueryFlooding/eth2dump-modbusQueryFlooding1m-0,5h_1.pcap', prn=packet_analysis, store=0, filter=\"src host 172.27.224.50 and dst host 172.27.224.250\")\n",
    "    sniff(offline='DataSet/captures1_v2/captures1_v2/mitm/eth2dump-mitm-change-1m-0,5h_1.pcap', prn=packet_analysis, store=0, filter=\"src host 172.27.224.70 and dst 172.27.224.250\")\n",
    "    #sniff(offline='DataSet/Dex2019_0002_attack3.pcap', prn=packet_analysis, store=0, count=100000, filter=\"src host 192.168.1.10 and dst host 192.168.1.20\")\n",
    "    print('Completed')\n",
    "    stop_t  = time.time()\n",
    "    delta_time = stop_t - start_t\n",
    "    print(delta_time)\n",
    "\n",
    "except Exception as sniff_dec_err:\n",
    "    traceback.print_exc()\n",
    "    print(str(sniff_dec_err))"
   ]
  },
  {
   "cell_type": "code",
   "execution_count": 6,
   "metadata": {
    "scrolled": true
   },
   "outputs": [
    {
     "name": "stderr",
     "output_type": "stream",
     "text": [
      "<ipython-input-6-759b9083226f>:8: DeprecationWarning: an integer is required (got type decimal.Decimal).  Implicit conversion to integers using __int__ is deprecated, and may be removed in a future version of Python.\n",
      "  dates=[datetime.fromtimestamp(ts[0]) for ts in detected]\n"
     ]
    },
    {
     "data": {
      "text/plain": [
       "[<matplotlib.lines.Line2D at 0x7fe6696050a0>]"
      ]
     },
     "execution_count": 6,
     "metadata": {},
     "output_type": "execute_result"
    },
    {
     "data": {
      "image/png": "[encoded data removed]",
      "text/plain": [
       "<Figure size 1152x648 with 1 Axes>"
      ]
     },
     "metadata": {
      "needs_background": "light"
     },
     "output_type": "display_data"
    }
   ],
   "source": [
    "from numpy import array, linspace\n",
    "from sklearn.neighbors import KernelDensity\n",
    "from matplotlib.pyplot import plot\n",
    "from scipy.signal import argrelextrema\n",
    "from scipy.signal import find_peaks\n",
    "\n",
    "import datetime as dt\n",
    "dates=[datetime.fromtimestamp(ts[0]) for ts in detected]\n",
    "\n",
    "values=[x[1] for x in detected]\n",
    "probs=[x[2] for x in detected]\n",
    "k = [x for x in detected if x[1]==0]\n",
    "#print(k)\n",
    "fig, ax = plt.subplots(figsize=(16,9))\n",
    "ax.title.set_text(\"Incident detection Confidence vs Event time\")\n",
    "ax.set_xlabel('Packet arrival timestamp')\n",
    "ax.set_ylabel('Anomaly Confidence')\n",
    "#ax.plot(dates,values)\n",
    "ax.plot(dates,probs, label='Anomaly Detection Confidence')\n"
   ]
  },
  {
   "cell_type": "code",
   "execution_count": null,
   "metadata": {},
   "outputs": [],
   "source": []
  }
 ],
 "metadata": {
  "kernelspec": {
   "display_name": "Python 3",
   "language": "python",
   "name": "python3"
  },
  "language_info": {
   "codemirror_mode": {
    "name": "ipython",
    "version": 3
   },
   "file_extension": ".py",
   "mimetype": "text/x-python",
   "name": "python",
   "nbconvert_exporter": "python",
   "pygments_lexer": "ipython3",
   "version": "3.8.5"
  }
 },
 "nbformat": 4,
 "nbformat_minor": 2
}
