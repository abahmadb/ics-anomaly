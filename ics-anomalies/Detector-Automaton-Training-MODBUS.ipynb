{
 "cells": [
  {
   "cell_type": "code",
   "execution_count": 1,
   "metadata": {
    "scrolled": true
   },
   "outputs": [],
   "source": [
    "# coding=utf-8\n",
    "from scapy.all import *\n",
    "import binascii\n",
    "import struct\n",
    "import time\n",
    "\n",
    "import crcmod\n",
    "import libnum\n",
    "\n",
    "from scapy.layers.inet import IP, UDP\n",
    "from scapy.layers.l2 import Ether\n",
    "\n",
    "import numpy as np\n",
    "\n",
    "plc_cube = []\n",
    "hmi_cube = []\n",
    "#seq = [[],[]]\n",
    "\n",
    "### Convert ip address string to integer\n",
    "def ip2long(ip):\n",
    "    \"\"\"\n",
    "    Convert an IP string to long\n",
    "    \"\"\"\n",
    "    packedIP = socket.inet_aton(ip)\n",
    "    return struct.unpack(\"!L\", packedIP)[0]\n",
    "\n",
    "def packet_analysis(pkt):\n",
    "    if IP in pkt and TCP in pkt:\n",
    "        #if len(pkt[TCP].payload) > 6:\n",
    "        #print(pkt[CIP].SERVICE_CODES[pkt[CIP].service])\n",
    "        #pkt.show()\n",
    "        if(pkt[TCP].dport == 502):\n",
    "            d_time = float(str(pkt.time))\n",
    "            s_ip = ip2long(pkt[IP].src)\n",
    "            d_ip = ip2long(pkt[IP].dst)\n",
    "            #seq[0].append(pkt[TCP].seq)\n",
    "            hmi_cube.append([s_ip,d_ip,d_time,-1])\n",
    "        if(pkt[TCP].sport == 502):\n",
    "            d_time = float(str(pkt.time))\n",
    "            s_ip = ip2long(pkt[IP].src)\n",
    "            d_ip = ip2long(pkt[IP].dst)\n",
    "            #seq.append(pkt[TCP].seq)\n",
    "            plc_cube.append([s_ip,d_ip,d_time,-1])\n"
   ]
  },
  {
   "cell_type": "code",
   "execution_count": 2,
   "metadata": {},
   "outputs": [
    {
     "name": "stdout",
     "output_type": "stream",
     "text": [
      "libpcap is not available. Cannot compile filter !\n"
     ]
    },
    {
     "name": "stderr",
     "output_type": "stream",
     "text": [
      "Traceback (most recent call last):\n",
      "  File \"/Users/AB/opt/anaconda3/lib/python3.7/site-packages/scapy/arch/common.py\", line 77, in compile_filter\n",
      "    from scapy.libs.winpcapy import (\n",
      "  File \"/Users/AB/opt/anaconda3/lib/python3.7/site-packages/scapy/libs/winpcapy.py\", line 38, in <module>\n",
      "    raise OSError(\"Cannot find libpcap.so library\")\n",
      "OSError: Cannot find libpcap.so library\n",
      "\n",
      "During handling of the above exception, another exception occurred:\n",
      "\n",
      "Traceback (most recent call last):\n",
      "  File \"<ipython-input-2-52cf8790bbc1>\", line 2, in <module>\n",
      "    sniff(offline='DataSet/captures1_v2/captures1_v2/clean/eth2dump-clean-1h_1.pcap', prn=packet_analysis, store=0, filter=\"host 172.27.224.250\")\n",
      "  File \"/Users/AB/opt/anaconda3/lib/python3.7/site-packages/scapy/sendrecv.py\", line 1036, in sniff\n",
      "    sniffer._run(*args, **kwargs)\n",
      "  File \"/Users/AB/opt/anaconda3/lib/python3.7/site-packages/scapy/sendrecv.py\", line 889, in _run\n",
      "    )] = offline\n",
      "  File \"/Users/AB/opt/anaconda3/lib/python3.7/site-packages/scapy/utils.py\", line 1781, in tcpdump\n",
      "    compile_filter(flt)\n",
      "  File \"/Users/AB/opt/anaconda3/lib/python3.7/site-packages/scapy/arch/common.py\", line 87, in compile_filter\n",
      "    \"libpcap is not available. Cannot compile filter !\"\n",
      "ImportError: libpcap is not available. Cannot compile filter !\n"
     ]
    }
   ],
   "source": [
    "try:\n",
    "    sniff(offline='', prn=packet_analysis, store=0, filter=\"host 172.27.224.250\")\n",
    "    #sniff(offline='DataSet/Dex2019_0002_attack3.pcap', prn=packet_analysis, store=0, count=100000, filter=\"src host 192.168.1.10 and dst host 192.168.1.20\")\n",
    "    plc_cube = np.asarray(plc_cube)\n",
    "    hmi_cube = np.asarray(hmi_cube)\n",
    "    print('Completed')\n",
    "\n",
    "except Exception as sniff_dec_err:\n",
    "    traceback.print_exc()\n",
    "    print(str(sniff_dec_err))"
   ]
  },
  {
   "cell_type": "code",
   "execution_count": null,
   "metadata": {},
   "outputs": [],
   "source": [
    "print(hmi_cube.shape)\n",
    "print(plc_cube.shape)\n",
    "print(plc_cube[2][0])"
   ]
  },
  {
   "cell_type": "code",
   "execution_count": null,
   "metadata": {},
   "outputs": [],
   "source": [
    "#print(CIP.SERVICE_CODES)\n",
    "#hmi_data = hmi_cube[hmi_cube[:,3]==[76]]\n",
    "hmi_data = hmi_cube[hmi_cube[:,0]==[ip2long('172.27.224.70')]]\n",
    "hmi_data = hmi_data[hmi_data[:,1]==[ip2long('172.27.224.250')]]\n",
    "hmi_data = hmi_data[:,2]\n",
    "print(hmi_data.shape)\n",
    "print(\"Sliding Windows Timespan :\",max(hmi_data)-min(hmi_data))"
   ]
  },
  {
   "cell_type": "code",
   "execution_count": null,
   "metadata": {},
   "outputs": [],
   "source": [
    "hmi_diff = np.diff(hmi_data)\n",
    "print(hmi_diff.shape)"
   ]
  },
  {
   "cell_type": "markdown",
   "metadata": {},
   "source": []
  },
  {
   "cell_type": "code",
   "execution_count": null,
   "metadata": {
    "scrolled": false
   },
   "outputs": [],
   "source": [
    "from numpy import array, linspace\n",
    "from sklearn.neighbors import KernelDensity\n",
    "from matplotlib.pyplot import plot\n",
    "from scipy.signal import argrelextrema\n",
    "from scipy.signal import find_peaks, chirp, find_peaks, peak_widths\n",
    "\n",
    "maxrange = 0.15\n",
    "N = 1000\n",
    "np.random.seed(1)\n",
    "X = hmi_diff[:1000].reshape(-1,1)\n",
    "X_plot = np.linspace(-0.0, maxrange, N)[:, np.newaxis]\n",
    "hist, bin_edges = np.histogram(hmi_diff[:3000], bins=N, range=(0.0,maxrange), density=True)\n",
    "bin_edges = bin_edges[:-1]\n",
    "true_dens = hist[:]*maxrange*(1/N)\n",
    "print(np.sum(true_dens))\n",
    "\n",
    "fig, ax = plt.subplots(figsize=(16,9))\n",
    "ax.plot(X_plot[:, 0], true_dens,label='Read TAG distribution')\n",
    "\n",
    "kde = KernelDensity(kernel='gaussian', bandwidth=0.0005).fit(X)\n",
    "log_dens = kde.score_samples(X_plot)\n",
    "#print(kde.get_params())\n",
    "dens = np.exp(log_dens)/1000\n",
    "\n",
    "peaks, _ = find_peaks(dens)\n",
    "\n",
    "valleys = peak_widths(dens, peaks, rel_height=0.8)\n",
    "\n",
    "print(dens[peaks])\n",
    "print(valleys[1])\n",
    "print(valleys)\n",
    "print(\"Xplot_peak\",X_plot[peaks])\n",
    "ax.plot(X_plot[:, 0], dens, color='darkgreen', lw=2,\n",
    "        linestyle='-', label='normal operation distribution (KDE Gaussian)')\n",
    "ax.plot(X_plot[peaks],dens[peaks], \"gx\")\n",
    "#ax.plot(X_plot[valleys],dens[valleys], \"go\")\n",
    "ax.plot(valleys[2]*maxrange*(1/N),valleys[1], \"ro\")\n",
    "ax.plot(valleys[3]*maxrange*(1/N),valleys[1], \"ro\")\n",
    "\n",
    "#stack position and values\n",
    "\n",
    "nppeaks = np.hstack((X_plot[peaks],dens[peaks].reshape(-1,1)))\n",
    "npbounds = np.stack((valleys[2]*maxrange*(1/N),valleys[3]*maxrange*(1/N),valleys[1]), axis=-1)\n",
    "\n",
    "#print(\"normal peaks\",nppeaks)\n",
    "#print(\"normal bounds\",npbounds)\n",
    "#[position,amplitude,left,right,height]\n",
    "npdata = np.concatenate((nppeaks,npbounds),axis=1)\n",
    "np.save(\"np_bounds_CRITIS_dst.npy\",npdata)\n",
    "\n",
    "ax.title.set_text(\"PLC-to-HMI arrival plots\")\n",
    "ax.legend(loc='upper right')\n",
    "ax.plot(X[:, 0], -0.005 - 0.01 * np.random.random(X.shape[0]), '+k')\n",
    "\n",
    "ax.set_xlim(-0.0, maxrange)\n",
    "ax.set_ylim(-0.02, 0.3)\n",
    "\n",
    "s = X_plot[:, 0]\n",
    "e = np.exp(log_dens)/1000\n",
    "a = X\n",
    "mi, ma = argrelextrema(e, np.less)[0], argrelextrema(e, np.greater)[0]\n",
    "print(\"Minima:\", s[mi])\n",
    "print(\"Maxima:\", s[ma])"
   ]
  },
  {
   "cell_type": "code",
   "execution_count": null,
   "metadata": {},
   "outputs": [],
   "source": []
  },
  {
   "cell_type": "code",
   "execution_count": null,
   "metadata": {},
   "outputs": [],
   "source": []
  }
 ],
 "metadata": {
  "kernelspec": {
   "display_name": "Python 3",
   "language": "python",
   "name": "python3"
  },
  "language_info": {
   "codemirror_mode": {
    "name": "ipython",
    "version": 3
   },
   "file_extension": ".py",
   "mimetype": "text/x-python",
   "name": "python",
   "nbconvert_exporter": "python",
   "pygments_lexer": "ipython3",
   "version": "3.7.6"
  }
 },
 "nbformat": 4,
 "nbformat_minor": 2
}
