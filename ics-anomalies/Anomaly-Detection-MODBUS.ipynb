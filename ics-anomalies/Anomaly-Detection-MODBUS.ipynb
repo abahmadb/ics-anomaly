{
 "cells": [
  {
   "cell_type": "code",
   "execution_count": 38,
   "metadata": {},
   "outputs": [],
   "source": [
    "# coding=utf-8\n",
    "from scapy.all import *\n",
    "import binascii\n",
    "import socket, struct\n",
    "import time\n",
    "\n",
    "import crcmod\n",
    "import libnum\n",
    "\n",
    "from scapy.layers.inet import IP, UDP\n",
    "from scapy.layers.l2 import Ether\n",
    "\n",
    "import numpy as np\n",
    "\n",
    "plc_cube = []\n",
    "hmi_cube = []\n",
    "\n",
    "seq = []\n",
    "\n",
    "def ip2long(ip):\n",
    "    \"\"\"\n",
    "    Convert an IP string to long\n",
    "    \"\"\"\n",
    "    packedIP = socket.inet_aton(ip)\n",
    "    return struct.unpack(\"!L\", packedIP)[0]\n",
    "\n",
    "def packet_analysis(pkt):\n",
    "    if TCP in pkt and IP in pkt:\n",
    "        if pkt[TCP].seq not in seq:\n",
    "            d_time = float(str(pkt.time))\n",
    "            seq.append(pkt[TCP].seq)\n",
    "            if(pkt[TCP].dport == 502 and len(pkt[TCP].payload)>0):\n",
    "                s_ip = ip2long(pkt[IP].src)\n",
    "                d_ip = ip2long(pkt[IP].dst)\n",
    "                hmi_cube.append(np.asarray([s_ip,d_ip,d_time]))\n",
    "            if(pkt[TCP].sport == 502 and len(pkt[TCP].payload)>0):\n",
    "                s_ip = ip2long(pkt[IP].src)\n",
    "                d_ip = ip2long(pkt[IP].dst)\n",
    "                plc_cube.append(np.asarray([s_ip,d_ip,d_time]))"
   ]
  },
  {
   "cell_type": "code",
   "execution_count": 39,
   "metadata": {},
   "outputs": [
    {
     "name": "stdout",
     "output_type": "stream",
     "text": [
      "[Errno 14] Bad address\n"
     ]
    },
    {
     "name": "stderr",
     "output_type": "stream",
     "text": [
      "Traceback (most recent call last):\n",
      "  File \"/home/xalanaseon/anaconda3/lib/python3.8/site-packages/scapy/utils.py\", line 979, in __call__\n",
      "    i.__init__(filename, fdesc, magic)\n",
      "  File \"/home/xalanaseon/anaconda3/lib/python3.8/site-packages/scapy/utils.py\", line 1124, in __init__\n",
      "    RawPcapReader.__init__(self, filename, fdesc, magic)\n",
      "  File \"/home/xalanaseon/anaconda3/lib/python3.8/site-packages/scapy/utils.py\", line 1035, in __init__\n",
      "    raise Scapy_Exception(\n",
      "scapy.error.Scapy_Exception: Not a pcap capture file (bad magic: b'\\n\\r\\r\\n')\n",
      "\n",
      "During handling of the above exception, another exception occurred:\n",
      "\n",
      "Traceback (most recent call last):\n",
      "  File \"<ipython-input-39-fb1a1a4cf17f>\", line 4, in <module>\n",
      "    sniff(offline='DataSet/modbus_normal_oper001.pcapng', prn=packet_analysis, store=0)\n",
      "  File \"/home/xalanaseon/anaconda3/lib/python3.8/site-packages/scapy/sendrecv.py\", line 1036, in sniff\n",
      "    sniffer._run(*args, **kwargs)\n",
      "  File \"/home/xalanaseon/anaconda3/lib/python3.8/site-packages/scapy/sendrecv.py\", line 882, in _run\n",
      "    sniff_sockets[PcapReader(\n",
      "  File \"/home/xalanaseon/anaconda3/lib/python3.8/site-packages/scapy/utils.py\", line 985, in __call__\n",
      "    i.__init__(filename, fdesc, magic)\n",
      "  File \"/home/xalanaseon/anaconda3/lib/python3.8/site-packages/scapy/utils.py\", line 1320, in __init__\n",
      "    RawPcapNgReader.__init__(self, filename, fdesc, magic)\n",
      "  File \"/home/xalanaseon/anaconda3/lib/python3.8/site-packages/scapy/utils.py\", line 1209, in __init__\n",
      "    self.f.read(blocklen - 24)\n",
      "OSError: [Errno 14] Bad address\n"
     ]
    }
   ],
   "source": [
    "try:\n",
    "    #print(ifaces)\n",
    "    #sniff(iface=\"Realtek PCIe GbE Family Controller\", prn=packet_analysis, filter=\"udp port 18507\")\n",
    "    sniff(offline='DataSet/modbus_normal_oper001.pcapng', prn=packet_analysis, store=0)\n",
    "    plc_cube = np.asarray(plc_cube)\n",
    "    hmi_cube = np.asarray(hmi_cube)\n",
    "    print('Completed')\n",
    "\n",
    "except Exception as sniff_dec_err:\n",
    "    traceback.print_exc()\n",
    "    print(str(sniff_dec_err))"
   ]
  },
  {
   "cell_type": "code",
   "execution_count": 37,
   "metadata": {},
   "outputs": [
    {
     "ename": "AttributeError",
     "evalue": "'list' object has no attribute 'shape'",
     "output_type": "error",
     "traceback": [
      "\u001b[0;31m---------------------------------------------------------------------------\u001b[0m",
      "\u001b[0;31mAttributeError\u001b[0m                            Traceback (most recent call last)",
      "\u001b[0;32m<ipython-input-37-911960a0eade>\u001b[0m in \u001b[0;36m<module>\u001b[0;34m\u001b[0m\n\u001b[0;32m----> 1\u001b[0;31m \u001b[0mprint\u001b[0m\u001b[0;34m(\u001b[0m\u001b[0mhmi_cube\u001b[0m\u001b[0;34m.\u001b[0m\u001b[0mshape\u001b[0m\u001b[0;34m)\u001b[0m\u001b[0;34m\u001b[0m\u001b[0;34m\u001b[0m\u001b[0m\n\u001b[0m\u001b[1;32m      2\u001b[0m \u001b[0mprint\u001b[0m\u001b[0;34m(\u001b[0m\u001b[0mplc_cube\u001b[0m\u001b[0;34m.\u001b[0m\u001b[0mshape\u001b[0m\u001b[0;34m)\u001b[0m\u001b[0;34m\u001b[0m\u001b[0;34m\u001b[0m\u001b[0m\n\u001b[1;32m      3\u001b[0m \u001b[0;31m#print(plc_cube[2][0])\u001b[0m\u001b[0;34m\u001b[0m\u001b[0;34m\u001b[0m\u001b[0;34m\u001b[0m\u001b[0m\n\u001b[1;32m      4\u001b[0m \u001b[0mdst1\u001b[0m \u001b[0;34m=\u001b[0m \u001b[0mhmi_cube\u001b[0m\u001b[0;34m[\u001b[0m\u001b[0mhmi_cube\u001b[0m\u001b[0;34m[\u001b[0m\u001b[0;34m:\u001b[0m\u001b[0;34m,\u001b[0m\u001b[0;36m0\u001b[0m\u001b[0;34m]\u001b[0m\u001b[0;34m==\u001b[0m\u001b[0;34m[\u001b[0m\u001b[0mip2long\u001b[0m\u001b[0;34m(\u001b[0m\u001b[0;34m'192.168.1.23'\u001b[0m\u001b[0;34m)\u001b[0m\u001b[0;34m]\u001b[0m\u001b[0;34m]\u001b[0m\u001b[0;34m\u001b[0m\u001b[0;34m\u001b[0m\u001b[0m\n\u001b[1;32m      5\u001b[0m \u001b[0mdst2\u001b[0m \u001b[0;34m=\u001b[0m \u001b[0mdst1\u001b[0m\u001b[0;34m[\u001b[0m\u001b[0mdst1\u001b[0m\u001b[0;34m[\u001b[0m\u001b[0;34m:\u001b[0m\u001b[0;34m,\u001b[0m\u001b[0;36m1\u001b[0m\u001b[0;34m]\u001b[0m\u001b[0;34m==\u001b[0m\u001b[0;34m[\u001b[0m\u001b[0mip2long\u001b[0m\u001b[0;34m(\u001b[0m\u001b[0;34m'192.168.1.55'\u001b[0m\u001b[0;34m)\u001b[0m\u001b[0;34m]\u001b[0m\u001b[0;34m]\u001b[0m\u001b[0;34m\u001b[0m\u001b[0;34m\u001b[0m\u001b[0m\n",
      "\u001b[0;31mAttributeError\u001b[0m: 'list' object has no attribute 'shape'"
     ]
    }
   ],
   "source": [
    "print(hmi_cube.shape)\n",
    "print(plc_cube.shape)\n",
    "#print(plc_cube[2][0])\n",
    "dst1 = hmi_cube[hmi_cube[:,0]==[ip2long('192.168.1.23')]]\n",
    "dst2 = dst1[dst1[:,1]==[ip2long('192.168.1.55')]]\n",
    "normal_hmi = dst2[:,2]"
   ]
  },
  {
   "cell_type": "code",
   "execution_count": null,
   "metadata": {},
   "outputs": [],
   "source": [
    "# coding=utf-8\n",
    "from scapy.all import *\n",
    "import binascii\n",
    "import socket, struct\n",
    "import time\n",
    "\n",
    "import crcmod\n",
    "import libnum\n",
    "\n",
    "from scapy.layers.inet import IP, UDP\n",
    "from scapy.layers.l2 import Ether\n",
    "\n",
    "import numpy as np\n",
    "\n",
    "plc_cube = []\n",
    "hmi_cube = []\n",
    "\n",
    "seq = []\n",
    "\n",
    "def ip2long(ip):\n",
    "    \"\"\"\n",
    "    Convert an IP string to long\n",
    "    \"\"\"\n",
    "    packedIP = socket.inet_aton(ip)\n",
    "    return struct.unpack(\"!L\", packedIP)[0]\n",
    "\n",
    "def packet_analysis(pkt):\n",
    "    if TCP in pkt and IP in pkt:\n",
    "        if pkt[TCP].seq not in seq:\n",
    "            d_time = float(str(pkt.time))\n",
    "            seq.append(pkt[TCP].seq)\n",
    "            if(pkt[TCP].dport == 502 and len(pkt[TCP].payload)>0):\n",
    "                s_ip = ip2long(pkt[IP].src)\n",
    "                d_ip = ip2long(pkt[IP].dst)\n",
    "                hmi_cube.append(np.asarray([s_ip,d_ip,d_time]))\n",
    "            if(pkt[TCP].sport == 502 and len(pkt[TCP].payload)>0):\n",
    "                s_ip = ip2long(pkt[IP].src)\n",
    "                d_ip = ip2long(pkt[IP].dst)\n",
    "                plc_cube.append(np.asarray([s_ip,d_ip,d_time]))"
   ]
  },
  {
   "cell_type": "code",
   "execution_count": null,
   "metadata": {},
   "outputs": [],
   "source": [
    "try:\n",
    "    #print(ifaces)\n",
    "    #sniff(iface=\"Realtek PCIe GbE Family Controller\", prn=packet_analysis, filter=\"udp port 18507\")\n",
    "    sniff(offline='DataSet/modbus_arp_attack001.pcapng', prn=packet_analysis, store=0)\n",
    "    plc_cube = np.asarray(plc_cube)\n",
    "    hmi_cube = np.asarray(hmi_cube)\n",
    "    print('Completed')\n",
    "\n",
    "except Exception as sniff_dec_err:\n",
    "    traceback.print_exc()\n",
    "    print(str(sniff_dec_err))"
   ]
  },
  {
   "cell_type": "code",
   "execution_count": null,
   "metadata": {},
   "outputs": [],
   "source": [
    "_dst1 = hmi_cube[hmi_cube[:,0]==[ip2long('192.168.1.23')]]\n",
    "_dst2 = _dst1[_dst1[:,1]==[ip2long('192.168.1.55')]]\n",
    "attack_hmi = _dst2[:,2]"
   ]
  },
  {
   "cell_type": "code",
   "execution_count": null,
   "metadata": {},
   "outputs": [],
   "source": [
    "print(\"normal HMI\",normal_hmi.shape)\n",
    "print(\"attack HMI\",attack_hmi.shape)\n",
    "print(max(normal_hmi)-min(normal_hmi))"
   ]
  },
  {
   "cell_type": "code",
   "execution_count": null,
   "metadata": {},
   "outputs": [],
   "source": [
    "normal_hmi_diff = np.diff(normal_hmi)\n",
    "#normal_plc_diff = np.diff(normal_plc)\n",
    "attack_hmi_diff = np.diff(attack_hmi)\n",
    "#attack_plc_diff = np.diff(attack_plc)"
   ]
  },
  {
   "cell_type": "code",
   "execution_count": null,
   "metadata": {
    "scrolled": false
   },
   "outputs": [],
   "source": [
    "#%matplotlib inline\n",
    "\n",
    "from numpy import array, linspace\n",
    "from sklearn.neighbors.kde import KernelDensity\n",
    "from matplotlib.pyplot import plot\n",
    "from scipy.signal import argrelextrema\n",
    "from scipy.signal import find_peaks\n",
    "# ----------------------------------------------------------------------\n",
    "# Plot a 1D density example\n",
    "for k in range(7):\n",
    "    \n",
    "    maxrange = 0.05\n",
    "    N = 10\n",
    "    fold = k*N\n",
    "    np.random.seed(1)\n",
    "    #X = np.concatenate((np.random.normal(0, 1, int(0.3 * N)),\n",
    "    #                    np.random.normal(5, 1, int(0.7 * N))))[:, np.newaxis]\n",
    "    X = normal_hmi_diff[fold:fold+N].reshape(-1,1)\n",
    "    X_beta = attack_hmi_diff[fold:fold+N].reshape(-1,1)\n",
    "    X_plot = np.linspace(-0.0, maxrange, N)[:, np.newaxis]\n",
    "\n",
    "    #true_dens = (0.3 * norm(0, 0.01).pdf(X_plot[:, 0])\n",
    "    #             + 0.7 * norm(0.1, 0.04).pdf(X_plot[:, 0]))\n",
    "\n",
    "    hist, bin_edges = np.histogram(normal_hmi_diff[fold:fold+N], bins=N, range=(0.0,maxrange), density=True)\n",
    "    bin_edges = bin_edges[:-1]\n",
    "    true_dens = hist[:]*maxrange*(1/N)\n",
    "    #print(true_dens)\n",
    "    print(np.sum(true_dens))\n",
    "\n",
    "    _hist, _bin_edges = np.histogram(attack_hmi_diff[fold:fold+N], bins=N, range=(0.0,maxrange), density=True)\n",
    "    _bin_edges = _bin_edges[:-1]\n",
    "    _true_dens = _hist[:]*maxrange*(1/N)\n",
    "    #print(_true_dens)\n",
    "    print(np.sum(_true_dens))\n",
    "\n",
    "    fig, ax = plt.subplots(figsize=(16,4))\n",
    "    ax.plot(X_plot[:, 0], true_dens,label='normal packet distribution')\n",
    "    ax.plot(X_plot[:, 0], _true_dens,label='attack packet distribution')\n",
    "\n",
    "    kde = KernelDensity(kernel='gaussian', bandwidth=0.0005).fit(X)\n",
    "    log_dens = kde.score_samples(X_plot)\n",
    "    dens = np.exp(log_dens)/1000\n",
    "    peaks, _ = find_peaks(dens, height=0.001)\n",
    "\n",
    "    _kde = KernelDensity(kernel='gaussian', bandwidth=0.0005).fit(X_beta)\n",
    "    _log_dens = _kde.score_samples(X_plot)\n",
    "    _dens = np.exp(_log_dens)/1000\n",
    "    _peaks, __ = find_peaks(_dens, height=0.001)\n",
    "\n",
    "    ax.plot(X_plot[:, 0], dens, color='darkgreen', lw=2,\n",
    "            linestyle='-', label=\"kernel = '{0}'\".format('gaussian'))\n",
    "    ax.plot(X_plot[peaks],dens[peaks], \"x\")\n",
    "    ax.plot(X_plot[:, 0], _dens, color='crimson', lw=2,\n",
    "            linestyle='-', label=\"kernel = '{0}'\".format('gaussian'))\n",
    "    ax.plot(X_plot[_peaks],_dens[_peaks], \"rx\")\n",
    "    print(dens[peaks])\n",
    "    print(_dens[_peaks])\n",
    "    #ax.text(6, 0.38, \"N={0} points\".format(N))\n",
    "    ax.legend(loc='upper right')\n",
    "    ax.plot(X[:, 0], -0.005 - 0.01 * np.random.random(X.shape[0]), '+k')\n",
    "\n",
    "    ax.set_xlim(-0.0, maxrange)\n",
    "    ax.set_ylim(-0.02, 1.0)\n"
   ]
  }
 ],
 "metadata": {
  "kernelspec": {
   "display_name": "Python 3",
   "language": "python",
   "name": "python3"
  },
  "language_info": {
   "codemirror_mode": {
    "name": "ipython",
    "version": 3
   },
   "file_extension": ".py",
   "mimetype": "text/x-python",
   "name": "python",
   "nbconvert_exporter": "python",
   "pygments_lexer": "ipython3",
   "version": "3.7.6"
  }
 },
 "nbformat": 4,
 "nbformat_minor": 4
}
