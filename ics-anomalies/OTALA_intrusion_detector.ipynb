{
 "cells": [
  {
   "cell_type": "markdown",
   "metadata": {},
   "source": [
    "#This is reimplement of OTALA based SCADA intrusion detector"
   ]
  },
  {
   "cell_type": "markdown",
   "metadata": {},
   "source": [
    "#OTALA Train"
   ]
  },
  {
   "cell_type": "code",
   "execution_count": null,
   "metadata": {},
   "outputs": [],
   "source": [
    "\n",
    "\n",
    "def OTALA_train(A):\n",
    "    S = []\n",
    "    T = []\n",
    "    R = []\n",
    "    Delta = [] #Time constrain [0,inf]\n",
    "    Sigma = BuildSymbols(A) #Set of symbols [A11, Aij], i=register number, j=time\n",
    "    for i in Range(len(A)):\n",
    "        c=i\n",
    "        while A[i] = A[i+1]:\n",
    "            i++\n",
    "        if A[i] not in S:\n",
    "            S.append(A[i])\n",
    "        if A[i+1] not in S:\n",
    "            S.sppend(A[i+1])\n",
    "\n",
    "        D = A[i]-A[i+1] #Added trasition of states\n",
    "        t=[A[i],A[i+1],D,Delta]\n",
    "        r=i-c\n",
    "        if t not in T:\n",
    "            T.append(t)\n",
    "            Rt = [r]\n",
    "            R.append(Rt)\n",
    "        else\n",
    "            Rt.append(r)\n",
    "\n",
    "    for Rt in R:\n",
    "        mean = np.avrage(Rt)\n",
    "        syd = np.std(Rt)\n",
    "        upperBound = mean + 3*(std)\n",
    "        lowerBound = mean + 3*(std)\n",
    "        Delta = [lowerBound,upperBound]\n",
    "        #updateTimeConstraint(t in T,Delta)\n",
    "\n",
    "    return S,Sigma,T,c"
   ]
  },
  {
   "cell_type": "code",
   "execution_count": null,
   "metadata": {},
   "outputs": [],
   "source": [
    "def OTALA_Detect(A,S,Sigma,T,c)\n",
    "    for i in Range(len(A)):\n",
    "        c=i\n",
    "        while A[i] = A[i+1]:\n",
    "            i++\n",
    "        if A[i] not in S or A[i+1]not in S:\n",
    "            return \"Alert\"\n",
    "        else\n",
    "            d = i-c\n",
    "            D = A[i]-A[i+1]\n",
    "            t = findTransition(A[i],A[i+1],D)\n",
    "            if t not in T:\n",
    "                return \"Alert\"\n",
    "        d=i-c\n",
    "        Delta = t.Delta\n",
    "        if d < Delta.lowerBound or d > Delta.upperBound:\n",
    "            return \"Alert\""
   ]
  },
  {
   "cell_type": "code",
   "execution_count": null,
   "metadata": {},
   "outputs": [],
   "source": []
  }
 ],
 "metadata": {
  "kernelspec": {
   "display_name": "Python 3",
   "language": "python",
   "name": "python3"
  },
  "language_info": {
   "codemirror_mode": {
    "name": "ipython",
    "version": 3
   },
   "file_extension": ".py",
   "mimetype": "text/x-python",
   "name": "python",
   "nbconvert_exporter": "python",
   "pygments_lexer": "ipython3",
   "version": "3.8.3"
  }
 },
 "nbformat": 4,
 "nbformat_minor": 4
}
